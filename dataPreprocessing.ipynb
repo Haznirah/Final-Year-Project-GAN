{
  "nbformat": 4,
  "nbformat_minor": 0,
  "metadata": {
    "colab": {
      "provenance": []
    },
    "kernelspec": {
      "name": "python3",
      "display_name": "Python 3"
    },
    "language_info": {
      "name": "python"
    }
  },
  "cells": [
    {
      "cell_type": "code",
      "execution_count": null,
      "metadata": {
        "id": "hiTUucJNhzCf"
      },
      "outputs": [],
      "source": [
        "# Import all the necessary library\n",
        "import pandas as pd\n",
        "import numpy as np\n",
        "import matplotlib.pyplot as plt\n",
        "import seaborn as sns\n",
        "%matplotlib inline"
      ]
    },
    {
      "cell_type": "code",
      "source": [
        "from google.colab import drive\n",
        "drive.mount('/content/drive')"
      ],
      "metadata": {
        "colab": {
          "base_uri": "https://localhost:8080/"
        },
        "id": "vjE-pvECh7TV",
        "outputId": "dab2ca75-636a-4b90-af21-f1aad9008d03"
      },
      "execution_count": null,
      "outputs": [
        {
          "output_type": "stream",
          "name": "stdout",
          "text": [
            "Mounted at /content/drive\n"
          ]
        }
      ]
    },
    {
      "cell_type": "code",
      "source": [
        "path = \"/content/drive/MyDrive/PSM1/rawData/NNRTI_stanford.csv\"\n",
        "data = pd.read_csv(path)"
      ],
      "metadata": {
        "id": "0RO-Lb-EiVoF"
      },
      "execution_count": null,
      "outputs": []
    },
    {
      "cell_type": "code",
      "source": [
        "data.shape"
      ],
      "metadata": {
        "colab": {
          "base_uri": "https://localhost:8080/"
        },
        "id": "Q0zQEbEWijnZ",
        "outputId": "8502e634-4ffc-4a2b-fe33-756301687266"
      },
      "execution_count": null,
      "outputs": [
        {
          "output_type": "execute_result",
          "data": {
            "text/plain": [
              "(1765, 245)"
            ]
          },
          "metadata": {},
          "execution_count": 4
        }
      ]
    },
    {
      "cell_type": "code",
      "source": [
        "data.head"
      ],
      "metadata": {
        "colab": {
          "base_uri": "https://localhost:8080/",
          "height": 186
        },
        "id": "aR1tETNaima2",
        "outputId": "4304c7a1-4acc-4f65-a16e-384e978acbd5"
      },
      "execution_count": null,
      "outputs": [
        {
          "output_type": "execute_result",
          "data": {
            "text/plain": [
              "<bound method NDFrame.head of        SeqID  EFV    NVP  ETR  RPV P1 P2 P3 P4 P5  ... P231 P232 P233 P234  \\\n",
              "0       2997  0.4    0.5  NaN  NaN  -  -  -  -  -  ...    -    -    -    -   \n",
              "1       4388  0.5    0.6  NaN  NaN  -  -  -  -  -  ...    -    -    -    -   \n",
              "2       4427  0.4    0.4  NaN  NaN  -  -  -  -  -  ...    -    -    -    -   \n",
              "3       4433  0.7    0.7  NaN  NaN  -  -  -  -  -  ...    -    -    -    -   \n",
              "4       4483  0.3    0.4  NaN  NaN  -  -  -  -  -  ...    -    -    -    -   \n",
              "...      ...  ...    ...  ...  ... .. .. .. .. ..  ...  ...  ...  ...  ...   \n",
              "1760  270334  2.1    3.3  3.1  3.2  -  -  -  -  -  ...    -    -    -    -   \n",
              "1761  270335  1.6    0.8  3.3  3.2  -  -  -  -  -  ...    -    -    -    -   \n",
              "1762  270336  1.9    2.0  3.2  3.3  -  -  -  -  -  ...    -    -    -    -   \n",
              "1763  270337  1.3    0.9  2.5  2.3  -  -  -  -  -  ...    -    -    -    -   \n",
              "1764  270338  2.1  170.0  4.9  3.0  -  -  -  -  -  ...    -    -    -    -   \n",
              "\n",
              "     P235 P236 P237 P238 P239 P240  \n",
              "0       -    -    -    -    -    -  \n",
              "1       -    -    -    -    -    .  \n",
              "2       -    -    -    -    -    -  \n",
              "3       -    -    -    -    -    -  \n",
              "4       -    -    -    -    -    -  \n",
              "...   ...  ...  ...  ...  ...  ...  \n",
              "1760    -    -    -    -    -    -  \n",
              "1761    -    -    -    -    -    -  \n",
              "1762    -    -    -    -    -    -  \n",
              "1763    -    -    -    -    -    -  \n",
              "1764    -    -    -    -    -    -  \n",
              "\n",
              "[1765 rows x 245 columns]>"
            ],
            "text/html": [
              "<div style=\"max-width:800px; border: 1px solid var(--colab-border-color);\"><style>\n",
              "      pre.function-repr-contents {\n",
              "        overflow-x: auto;\n",
              "        padding: 8px 12px;\n",
              "        max-height: 500px;\n",
              "      }\n",
              "\n",
              "      pre.function-repr-contents.function-repr-contents-collapsed {\n",
              "        cursor: pointer;\n",
              "        max-height: 100px;\n",
              "      }\n",
              "    </style>\n",
              "    <pre style=\"white-space: initial; background:\n",
              "         var(--colab-secondary-surface-color); padding: 8px 12px;\n",
              "         border-bottom: 1px solid var(--colab-border-color);\"><b>pandas.core.generic.NDFrame.head</b><br/>def head(n: int=5) -&gt; NDFrameT</pre><pre class=\"function-repr-contents function-repr-contents-collapsed\" style=\"\"><a class=\"filepath\" style=\"display:none\" href=\"#\">/usr/local/lib/python3.10/dist-packages/pandas/core/generic.py</a>Return the first `n` rows.\n",
              "\n",
              "This function returns the first `n` rows for the object based\n",
              "on position. It is useful for quickly testing if your object\n",
              "has the right type of data in it.\n",
              "\n",
              "For negative values of `n`, this function returns all rows except\n",
              "the last `|n|` rows, equivalent to ``df[:n]``.\n",
              "\n",
              "If n is larger than the number of rows, this function returns all rows.\n",
              "\n",
              "Parameters\n",
              "----------\n",
              "n : int, default 5\n",
              "    Number of rows to select.\n",
              "\n",
              "Returns\n",
              "-------\n",
              "same type as caller\n",
              "    The first `n` rows of the caller object.\n",
              "\n",
              "See Also\n",
              "--------\n",
              "DataFrame.tail: Returns the last `n` rows.\n",
              "\n",
              "Examples\n",
              "--------\n",
              "&gt;&gt;&gt; df = pd.DataFrame({&#x27;animal&#x27;: [&#x27;alligator&#x27;, &#x27;bee&#x27;, &#x27;falcon&#x27;, &#x27;lion&#x27;,\n",
              "...                    &#x27;monkey&#x27;, &#x27;parrot&#x27;, &#x27;shark&#x27;, &#x27;whale&#x27;, &#x27;zebra&#x27;]})\n",
              "&gt;&gt;&gt; df\n",
              "      animal\n",
              "0  alligator\n",
              "1        bee\n",
              "2     falcon\n",
              "3       lion\n",
              "4     monkey\n",
              "5     parrot\n",
              "6      shark\n",
              "7      whale\n",
              "8      zebra\n",
              "\n",
              "Viewing the first 5 lines\n",
              "\n",
              "&gt;&gt;&gt; df.head()\n",
              "      animal\n",
              "0  alligator\n",
              "1        bee\n",
              "2     falcon\n",
              "3       lion\n",
              "4     monkey\n",
              "\n",
              "Viewing the first `n` lines (three in this case)\n",
              "\n",
              "&gt;&gt;&gt; df.head(3)\n",
              "      animal\n",
              "0  alligator\n",
              "1        bee\n",
              "2     falcon\n",
              "\n",
              "For negative values of `n`\n",
              "\n",
              "&gt;&gt;&gt; df.head(-3)\n",
              "      animal\n",
              "0  alligator\n",
              "1        bee\n",
              "2     falcon\n",
              "3       lion\n",
              "4     monkey\n",
              "5     parrot</pre>\n",
              "      <script>\n",
              "      if (google.colab.kernel.accessAllowed && google.colab.files && google.colab.files.view) {\n",
              "        for (const element of document.querySelectorAll('.filepath')) {\n",
              "          element.style.display = 'block'\n",
              "          element.onclick = (event) => {\n",
              "            event.preventDefault();\n",
              "            event.stopPropagation();\n",
              "            google.colab.files.view(element.textContent, 5559);\n",
              "          };\n",
              "        }\n",
              "      }\n",
              "      for (const element of document.querySelectorAll('.function-repr-contents')) {\n",
              "        element.onclick = (event) => {\n",
              "          event.preventDefault();\n",
              "          event.stopPropagation();\n",
              "          element.classList.toggle('function-repr-contents-collapsed');\n",
              "        };\n",
              "      }\n",
              "      </script>\n",
              "      </div>"
            ]
          },
          "metadata": {},
          "execution_count": 5
        }
      ]
    },
    {
      "cell_type": "code",
      "source": [
        "path2 = \"/content/drive/MyDrive/PSM1/rawData/NRTI_stanford.csv\"\n",
        "data2 = pd.read_csv(path2)"
      ],
      "metadata": {
        "id": "R2_0BTkFiqOe"
      },
      "execution_count": null,
      "outputs": []
    },
    {
      "cell_type": "code",
      "source": [
        "data2.shape"
      ],
      "metadata": {
        "colab": {
          "base_uri": "https://localhost:8080/"
        },
        "id": "z6stuDcbiy_1",
        "outputId": "ab280b5d-fa39-413f-bd94-c6901bc5dd71"
      },
      "execution_count": null,
      "outputs": [
        {
          "output_type": "execute_result",
          "data": {
            "text/plain": [
              "(1498, 247)"
            ]
          },
          "metadata": {},
          "execution_count": 7
        }
      ]
    },
    {
      "cell_type": "code",
      "source": [
        "data2.head"
      ],
      "metadata": {
        "colab": {
          "base_uri": "https://localhost:8080/",
          "height": 186
        },
        "id": "eQtiggTYjEXf",
        "outputId": "779a3a7d-551e-47b6-87be-71352f04a3bb"
      },
      "execution_count": null,
      "outputs": [
        {
          "output_type": "execute_result",
          "data": {
            "text/plain": [
              "<bound method NDFrame.head of        SeqID    X3TC  ABC   AZT  D4T  DDI  TDF P1 P2 P3  ... P231 P232 P233  \\\n",
              "0       2997  200.00  4.3   3.9  1.4  1.2  NaN  -  -  -  ...    -    -    -   \n",
              "1       4388  200.00  8.1   4.7  1.8  1.7  NaN  -  -  -  ...    -    -    -   \n",
              "2       4427    1.40  1.1  28.0  1.0  0.8  1.9  -  -  -  ...    -    -    -   \n",
              "3       4487    1.80  1.5   7.1  1.2  1.1  1.1  -  -  -  ...    -    -    -   \n",
              "4       4539  200.00  3.7   4.5  2.0  1.3  NaN  -  -  -  ...    .    .    .   \n",
              "...      ...     ...  ...   ...  ...  ...  ... .. .. ..  ...  ...  ...  ...   \n",
              "1493  270334    1.15  1.4   1.2  1.4  1.2  1.1  -  -  -  ...    -    -    -   \n",
              "1494  270335   89.40  3.2   0.8  1.6  2.4  0.8  -  -  -  ...    -    -    -   \n",
              "1495  270336   89.40  2.8   0.5  1.4  2.2  0.6  -  -  -  ...    -    -    -   \n",
              "1496  270337    1.20  1.4   1.8  1.4  1.2  1.2  -  -  -  ...    -    -    -   \n",
              "1497  270338    0.70  0.8   0.4  1.0  0.8  0.7  -  -  -  ...    -    -    -   \n",
              "\n",
              "     P234 P235 P236 P237 P238 P239 P240  \n",
              "0       -    -    -    -    -    -    -  \n",
              "1       -    -    -    -    -    -    .  \n",
              "2       -    -    -    -    -    -    -  \n",
              "3       -    -    -    -    -    -    -  \n",
              "4       .    .    .    .    .    .    .  \n",
              "...   ...  ...  ...  ...  ...  ...  ...  \n",
              "1493    -    -    -    -    -    -    -  \n",
              "1494    -    -    -    -    -    -    -  \n",
              "1495    -    -    -    -    -    -    -  \n",
              "1496    -    -    -    -    -    -    -  \n",
              "1497    -    -    -    -    -    -    -  \n",
              "\n",
              "[1498 rows x 247 columns]>"
            ],
            "text/html": [
              "<div style=\"max-width:800px; border: 1px solid var(--colab-border-color);\"><style>\n",
              "      pre.function-repr-contents {\n",
              "        overflow-x: auto;\n",
              "        padding: 8px 12px;\n",
              "        max-height: 500px;\n",
              "      }\n",
              "\n",
              "      pre.function-repr-contents.function-repr-contents-collapsed {\n",
              "        cursor: pointer;\n",
              "        max-height: 100px;\n",
              "      }\n",
              "    </style>\n",
              "    <pre style=\"white-space: initial; background:\n",
              "         var(--colab-secondary-surface-color); padding: 8px 12px;\n",
              "         border-bottom: 1px solid var(--colab-border-color);\"><b>pandas.core.generic.NDFrame.head</b><br/>def head(n: int=5) -&gt; NDFrameT</pre><pre class=\"function-repr-contents function-repr-contents-collapsed\" style=\"\"><a class=\"filepath\" style=\"display:none\" href=\"#\">/usr/local/lib/python3.10/dist-packages/pandas/core/generic.py</a>Return the first `n` rows.\n",
              "\n",
              "This function returns the first `n` rows for the object based\n",
              "on position. It is useful for quickly testing if your object\n",
              "has the right type of data in it.\n",
              "\n",
              "For negative values of `n`, this function returns all rows except\n",
              "the last `|n|` rows, equivalent to ``df[:n]``.\n",
              "\n",
              "If n is larger than the number of rows, this function returns all rows.\n",
              "\n",
              "Parameters\n",
              "----------\n",
              "n : int, default 5\n",
              "    Number of rows to select.\n",
              "\n",
              "Returns\n",
              "-------\n",
              "same type as caller\n",
              "    The first `n` rows of the caller object.\n",
              "\n",
              "See Also\n",
              "--------\n",
              "DataFrame.tail: Returns the last `n` rows.\n",
              "\n",
              "Examples\n",
              "--------\n",
              "&gt;&gt;&gt; df = pd.DataFrame({&#x27;animal&#x27;: [&#x27;alligator&#x27;, &#x27;bee&#x27;, &#x27;falcon&#x27;, &#x27;lion&#x27;,\n",
              "...                    &#x27;monkey&#x27;, &#x27;parrot&#x27;, &#x27;shark&#x27;, &#x27;whale&#x27;, &#x27;zebra&#x27;]})\n",
              "&gt;&gt;&gt; df\n",
              "      animal\n",
              "0  alligator\n",
              "1        bee\n",
              "2     falcon\n",
              "3       lion\n",
              "4     monkey\n",
              "5     parrot\n",
              "6      shark\n",
              "7      whale\n",
              "8      zebra\n",
              "\n",
              "Viewing the first 5 lines\n",
              "\n",
              "&gt;&gt;&gt; df.head()\n",
              "      animal\n",
              "0  alligator\n",
              "1        bee\n",
              "2     falcon\n",
              "3       lion\n",
              "4     monkey\n",
              "\n",
              "Viewing the first `n` lines (three in this case)\n",
              "\n",
              "&gt;&gt;&gt; df.head(3)\n",
              "      animal\n",
              "0  alligator\n",
              "1        bee\n",
              "2     falcon\n",
              "\n",
              "For negative values of `n`\n",
              "\n",
              "&gt;&gt;&gt; df.head(-3)\n",
              "      animal\n",
              "0  alligator\n",
              "1        bee\n",
              "2     falcon\n",
              "3       lion\n",
              "4     monkey\n",
              "5     parrot</pre>\n",
              "      <script>\n",
              "      if (google.colab.kernel.accessAllowed && google.colab.files && google.colab.files.view) {\n",
              "        for (const element of document.querySelectorAll('.filepath')) {\n",
              "          element.style.display = 'block'\n",
              "          element.onclick = (event) => {\n",
              "            event.preventDefault();\n",
              "            event.stopPropagation();\n",
              "            google.colab.files.view(element.textContent, 5559);\n",
              "          };\n",
              "        }\n",
              "      }\n",
              "      for (const element of document.querySelectorAll('.function-repr-contents')) {\n",
              "        element.onclick = (event) => {\n",
              "          event.preventDefault();\n",
              "          event.stopPropagation();\n",
              "          element.classList.toggle('function-repr-contents-collapsed');\n",
              "        };\n",
              "      }\n",
              "      </script>\n",
              "      </div>"
            ]
          },
          "metadata": {},
          "execution_count": 8
        }
      ]
    },
    {
      "cell_type": "code",
      "source": [
        "path3 = \"/content/drive/MyDrive/PSM1/rawData/PI_stanford.csv\"\n",
        "data3 = pd.read_csv(path3)"
      ],
      "metadata": {
        "id": "VEUB1Onni6C4"
      },
      "execution_count": null,
      "outputs": []
    },
    {
      "cell_type": "code",
      "source": [
        "data3.shape"
      ],
      "metadata": {
        "colab": {
          "base_uri": "https://localhost:8080/"
        },
        "id": "rU9l0ymXjBF_",
        "outputId": "8b70626e-c343-40bb-f451-53b4b305a60b"
      },
      "execution_count": null,
      "outputs": [
        {
          "output_type": "execute_result",
          "data": {
            "text/plain": [
              "(1808, 108)"
            ]
          },
          "metadata": {},
          "execution_count": 10
        }
      ]
    },
    {
      "cell_type": "code",
      "source": [
        "data3.head"
      ],
      "metadata": {
        "colab": {
          "base_uri": "https://localhost:8080/",
          "height": 186
        },
        "id": "hocpULvSjMCX",
        "outputId": "5153eaa5-1eb0-4f9a-a54f-d0d0e2e22d97"
      },
      "execution_count": null,
      "outputs": [
        {
          "output_type": "execute_result",
          "data": {
            "text/plain": [
              "<bound method NDFrame.head of        SeqID  FPV   ATV   IDV   LPV   NFV    SQV  TPV  DRV P1  ... P90 P91  \\\n",
              "0       2996  2.5   NaN  16.3   NaN  38.6   16.1  NaN  NaN  -  ...   M   -   \n",
              "1       4387  0.7   NaN   0.8   NaN   0.8    1.1  NaN  NaN  -  ...   -   -   \n",
              "2       4426  3.0  32.0  35.0  32.0  29.0  164.0  NaN  NaN  .  ...   -   -   \n",
              "3       4432  1.5   NaN   1.0   NaN   2.2    1.1  NaN  NaN  -  ...   -   -   \n",
              "4       4482  3.9   NaN  20.2   NaN  21.6    9.2  NaN  NaN  -  ...   M   -   \n",
              "...      ...  ...   ...   ...   ...   ...    ...  ...  ... ..  ...  ..  ..   \n",
              "1803  259249  0.4   0.5   0.5   0.4   0.6    0.6  0.6  0.6  -  ...   -   -   \n",
              "1804  259253  0.9   0.8   0.9   0.9   1.5    0.7  0.7  0.6  -  ...   -   -   \n",
              "1805  259257  0.8   0.8   0.8   0.6   1.7    0.7  1.1  0.5  -  ...   -   -   \n",
              "1806  259261  0.6   0.7   0.7   0.5   0.7    0.7  0.8  0.6  -  ...   -   -   \n",
              "1807  259265  0.3   0.9   0.6   0.6   0.7    0.7  0.8  0.8  -  ...   -   -   \n",
              "\n",
              "     P92 P93 P94 P95 P96 P97 P98 P99  \n",
              "0      -   L   -   -   -   -   -   -  \n",
              "1      -   -   -   -   -   -   -   -  \n",
              "2      -   L   -   -   -   -   -   -  \n",
              "3      -   -   -   -   -   -   -   -  \n",
              "4      -   L   -   -   -   -   -   -  \n",
              "...   ..  ..  ..  ..  ..  ..  ..  ..  \n",
              "1803   -   -   -   -   -   -   -   -  \n",
              "1804   -   -   -   -   -   -   -   -  \n",
              "1805   -   L   -   -   -   -   -   -  \n",
              "1806   -   -   -   -   -   -   -   -  \n",
              "1807   -   L   -   -   -   -   -   -  \n",
              "\n",
              "[1808 rows x 108 columns]>"
            ],
            "text/html": [
              "<div style=\"max-width:800px; border: 1px solid var(--colab-border-color);\"><style>\n",
              "      pre.function-repr-contents {\n",
              "        overflow-x: auto;\n",
              "        padding: 8px 12px;\n",
              "        max-height: 500px;\n",
              "      }\n",
              "\n",
              "      pre.function-repr-contents.function-repr-contents-collapsed {\n",
              "        cursor: pointer;\n",
              "        max-height: 100px;\n",
              "      }\n",
              "    </style>\n",
              "    <pre style=\"white-space: initial; background:\n",
              "         var(--colab-secondary-surface-color); padding: 8px 12px;\n",
              "         border-bottom: 1px solid var(--colab-border-color);\"><b>pandas.core.generic.NDFrame.head</b><br/>def head(n: int=5) -&gt; NDFrameT</pre><pre class=\"function-repr-contents function-repr-contents-collapsed\" style=\"\"><a class=\"filepath\" style=\"display:none\" href=\"#\">/usr/local/lib/python3.10/dist-packages/pandas/core/generic.py</a>Return the first `n` rows.\n",
              "\n",
              "This function returns the first `n` rows for the object based\n",
              "on position. It is useful for quickly testing if your object\n",
              "has the right type of data in it.\n",
              "\n",
              "For negative values of `n`, this function returns all rows except\n",
              "the last `|n|` rows, equivalent to ``df[:n]``.\n",
              "\n",
              "If n is larger than the number of rows, this function returns all rows.\n",
              "\n",
              "Parameters\n",
              "----------\n",
              "n : int, default 5\n",
              "    Number of rows to select.\n",
              "\n",
              "Returns\n",
              "-------\n",
              "same type as caller\n",
              "    The first `n` rows of the caller object.\n",
              "\n",
              "See Also\n",
              "--------\n",
              "DataFrame.tail: Returns the last `n` rows.\n",
              "\n",
              "Examples\n",
              "--------\n",
              "&gt;&gt;&gt; df = pd.DataFrame({&#x27;animal&#x27;: [&#x27;alligator&#x27;, &#x27;bee&#x27;, &#x27;falcon&#x27;, &#x27;lion&#x27;,\n",
              "...                    &#x27;monkey&#x27;, &#x27;parrot&#x27;, &#x27;shark&#x27;, &#x27;whale&#x27;, &#x27;zebra&#x27;]})\n",
              "&gt;&gt;&gt; df\n",
              "      animal\n",
              "0  alligator\n",
              "1        bee\n",
              "2     falcon\n",
              "3       lion\n",
              "4     monkey\n",
              "5     parrot\n",
              "6      shark\n",
              "7      whale\n",
              "8      zebra\n",
              "\n",
              "Viewing the first 5 lines\n",
              "\n",
              "&gt;&gt;&gt; df.head()\n",
              "      animal\n",
              "0  alligator\n",
              "1        bee\n",
              "2     falcon\n",
              "3       lion\n",
              "4     monkey\n",
              "\n",
              "Viewing the first `n` lines (three in this case)\n",
              "\n",
              "&gt;&gt;&gt; df.head(3)\n",
              "      animal\n",
              "0  alligator\n",
              "1        bee\n",
              "2     falcon\n",
              "\n",
              "For negative values of `n`\n",
              "\n",
              "&gt;&gt;&gt; df.head(-3)\n",
              "      animal\n",
              "0  alligator\n",
              "1        bee\n",
              "2     falcon\n",
              "3       lion\n",
              "4     monkey\n",
              "5     parrot</pre>\n",
              "      <script>\n",
              "      if (google.colab.kernel.accessAllowed && google.colab.files && google.colab.files.view) {\n",
              "        for (const element of document.querySelectorAll('.filepath')) {\n",
              "          element.style.display = 'block'\n",
              "          element.onclick = (event) => {\n",
              "            event.preventDefault();\n",
              "            event.stopPropagation();\n",
              "            google.colab.files.view(element.textContent, 5559);\n",
              "          };\n",
              "        }\n",
              "      }\n",
              "      for (const element of document.querySelectorAll('.function-repr-contents')) {\n",
              "        element.onclick = (event) => {\n",
              "          event.preventDefault();\n",
              "          event.stopPropagation();\n",
              "          element.classList.toggle('function-repr-contents-collapsed');\n",
              "        };\n",
              "      }\n",
              "      </script>\n",
              "      </div>"
            ]
          },
          "metadata": {},
          "execution_count": 11
        }
      ]
    },
    {
      "cell_type": "code",
      "source": [
        "missing_vals = []\n",
        "for i in range(len(data)):\n",
        "    for j in range(9, len(data.columns)):\n",
        "        if pd.isna(data.iloc[i, j]) or data.iloc[i, j] == \".\":\n",
        "            missing_vals.append(data.iloc[i, 0])\n",
        "missing_vals = list(set(missing_vals))"
      ],
      "metadata": {
        "id": "e1sbJX7bjPS-"
      },
      "execution_count": null,
      "outputs": []
    },
    {
      "cell_type": "code",
      "source": [
        "print(missing_vals)"
      ],
      "metadata": {
        "colab": {
          "base_uri": "https://localhost:8080/"
        },
        "id": "x0P9vmdTk7Jk",
        "outputId": "94d8f196-ae0a-4cae-c669-8583f4a11cfc"
      },
      "execution_count": null,
      "outputs": [
        {
          "output_type": "stream",
          "name": "stdout",
          "text": [
            "[64520, 65036, 64540, 65056, 65074, 64576, 65092, 64586, 65106, 65116, 64606, 173669, 64614, 65126, 65138, 64630, 143479, 143481, 143483, 64636, 143485, 64658, 65178, 64668, 52896, 65186, 64676, 65194, 64686, 65202, 64692, 65216, 64708, 7884, 64718, 7376, 112854, 65240, 112856, 41178, 112858, 112860, 64734, 112864, 65250, 112866, 112868, 112872, 64746, 112874, 64750, 112878, 112882, 112884, 112374, 64760, 112378, 112890, 112380, 112892, 112382, 112894, 112384, 112896, 64770, 112386, 112388, 112898, 112390, 112900, 112392, 112903, 112905, 112907, 64780, 112396, 112398, 112909, 112400, 112911, 64786, 112913, 112404, 112917, 112406, 112919, 112408, 112410, 112923, 112412, 112927, 64800, 112929, 112418, 112931, 4388, 112420, 112422, 112935, 112424, 112937, 112426, 112939, 112428, 112941, 112430, 112943, 112945, 112434, 112947, 64820, 112436, 112438, 112951, 112440, 112953, 112442, 112955, 112957, 112959, 112961, 64834, 112963, 112452, 112454, 112967, 112456, 112969, 54602, 64842, 112458, 112459, 112461, 112971, 112974, 112465, 112976, 112467, 112469, 64854, 112471, 112473, 112477, 112483, 69476, 112485, 69478, 69479, 112487, 69481, 112489, 112491, 205675, 112493, 64878, 112495, 112497, 112499, 112501, 112503, 64888, 112505, 112507, 112509, 112511, 112513, 64898, 112517, 112519, 112521, 112523, 112525, 112527, 112529, 64914, 112531, 112535, 112537, 112539, 64924, 112541, 112543, 112545, 64930, 112549, 112553, 112555, 64940, 112557, 10158, 112559, 64948, 112569, 112573, 64958, 112575, 112579, 112581, 64968, 112585, 112587, 112589, 112591, 6609, 112593, 112595, 64468, 112599, 112601, 43995, 64996, 64488, 65008, 64498, 44026, 65022]\n"
          ]
        }
      ]
    },
    {
      "cell_type": "code",
      "source": [
        "print(len(missing_vals))"
      ],
      "metadata": {
        "colab": {
          "base_uri": "https://localhost:8080/"
        },
        "id": "7OgM2iJkksuQ",
        "outputId": "9a4c5271-1410-49bd-98d2-152683489516"
      },
      "execution_count": null,
      "outputs": [
        {
          "output_type": "stream",
          "name": "stdout",
          "text": [
            "216\n"
          ]
        }
      ]
    },
    {
      "cell_type": "code",
      "source": [
        "missing_vals2 = []\n",
        "for i in range(len(data2)):\n",
        "    for j in range(9, len(data2.columns)):\n",
        "        if pd.isna(data2.iloc[i, j]) or data2.iloc[i, j] == \".\":\n",
        "            missing_vals2.append(data2.iloc[i, 0])\n",
        "missing_vals2 = list(set(missing_vals2))"
      ],
      "metadata": {
        "id": "czWtJ-gbjSuX"
      },
      "execution_count": null,
      "outputs": []
    },
    {
      "cell_type": "code",
      "source": [
        "print(missing_vals2)"
      ],
      "metadata": {
        "colab": {
          "base_uri": "https://localhost:8080/"
        },
        "id": "_3-0Jauek_qR",
        "outputId": "de4b0acf-306f-47b7-c072-dd96822a106c"
      },
      "execution_count": null,
      "outputs": [
        {
          "output_type": "stream",
          "name": "stdout",
          "text": [
            "[64520, 65036, 64540, 65074, 65092, 64586, 65116, 64606, 173669, 64614, 65138, 64630, 143479, 143481, 143483, 64636, 143485, 65178, 52896, 65186, 64676, 64686, 65202, 64692, 65216, 64708, 64718, 7376, 112854, 112856, 41178, 112858, 112860, 64734, 112862, 65250, 112866, 112868, 112870, 64746, 112874, 112876, 64750, 112880, 112882, 112884, 112886, 112376, 112888, 112378, 112890, 112380, 112892, 112382, 112384, 112896, 64770, 112898, 112388, 112900, 112390, 112903, 112392, 112905, 112394, 112907, 64780, 112396, 112398, 112909, 112400, 112911, 64786, 112402, 112404, 112913, 112917, 112919, 112408, 112410, 112923, 112412, 112925, 112414, 112927, 64800, 112416, 112418, 112929, 4388, 112420, 112422, 112931, 112935, 112426, 112939, 112428, 112430, 112943, 112947, 112436, 112951, 112440, 112953, 112955, 112444, 112959, 64834, 112450, 112452, 112963, 112454, 112965, 112456, 112967, 54602, 64842, 112458, 112459, 112461, 112974, 112976, 112467, 112469, 64854, 112471, 112475, 112477, 112481, 112483, 69476, 112485, 69478, 112487, 69481, 112489, 205675, 112493, 112495, 112497, 64888, 112505, 112507, 112509, 112511, 112513, 112517, 112521, 112523, 112525, 112527, 64914, 112533, 112535, 112537, 112539, 64924, 112541, 64930, 112547, 112549, 112551, 112557, 10158, 112559, 112561, 112563, 64948, 112567, 112569, 4539, 112573, 64958, 112575, 112577, 112579, 112581, 64968, 112587, 112589, 112591, 112593, 112595, 64468, 112597, 112599, 43995, 64996, 64488, 65008, 64498, 44026, 65022]\n"
          ]
        }
      ]
    },
    {
      "cell_type": "code",
      "source": [
        "print(len(missing_vals2))"
      ],
      "metadata": {
        "colab": {
          "base_uri": "https://localhost:8080/"
        },
        "id": "PbW-90hck_hM",
        "outputId": "30bd59be-c5a8-46c1-ac66-efdb85c4b3fb"
      },
      "execution_count": null,
      "outputs": [
        {
          "output_type": "stream",
          "name": "stdout",
          "text": [
            "193\n"
          ]
        }
      ]
    },
    {
      "cell_type": "code",
      "source": [
        "missing_vals3 = []\n",
        "for i in range(len(data3)):\n",
        "    for j in range(9, len(data3.columns)):\n",
        "        if pd.isna(data3.iloc[i, j]) or data3.iloc[i, j] == \".\":\n",
        "            missing_vals3.append(data3.iloc[i, 0])\n",
        "missing_vals3 = list(set(missing_vals3))"
      ],
      "metadata": {
        "id": "NfApAX78jXA-"
      },
      "execution_count": null,
      "outputs": []
    },
    {
      "cell_type": "code",
      "source": [
        "print(missing_vals3)"
      ],
      "metadata": {
        "colab": {
          "base_uri": "https://localhost:8080/"
        },
        "id": "N7uCOcqxlCgU",
        "outputId": "6cdcbb3c-83cb-41ce-8e0b-36047efb10b2"
      },
      "execution_count": null,
      "outputs": [
        {
          "output_type": "stream",
          "name": "stdout",
          "text": [
            "[64519, 65035, 39954, 64539, 65055, 65073, 60467, 28218, 60479, 64575, 65091, 64585, 60491, 65105, 40018, 14938, 65115, 64605, 147552, 64613, 65125, 12400, 65137, 64629, 46199, 64635, 46208, 46216, 60554, 60558, 64657, 60562, 65177, 64667, 65185, 64675, 65193, 60587, 64685, 65201, 11954, 64691, 27835, 65215, 64707, 15563, 64717, 15569, 112853, 65239, 112855, 112857, 112859, 64733, 112863, 7393, 65249, 112867, 112871, 64745, 64749, 112877, 112879, 112881, 112883, 112373, 112885, 64759, 112375, 112377, 112887, 112379, 112889, 112381, 112891, 112383, 112895, 64769, 112385, 112387, 112897, 112389, 112899, 112391, 112901, 112393, 112902, 64779, 112395, 112397, 112904, 112399, 112906, 64785, 112401, 112403, 112908, 112405, 112910, 112407, 112912, 112409, 112918, 112411, 112922, 112413, 112924, 64799, 112415, 112417, 112926, 112419, 112928, 112421, 112930, 112423, 112934, 112425, 112936, 112427, 112938, 112940, 112942, 112431, 112944, 112433, 112946, 64819, 112435, 112437, 112948, 112439, 112950, 112441, 112954, 112443, 112956, 112445, 112958, 112447, 112960, 64833, 112449, 112451, 112962, 112453, 112964, 112455, 64841, 4426, 112457, 112460, 112970, 112972, 112973, 112464, 112975, 112466, 112468, 64853, 112470, 112472, 112474, 112476, 112478, 112482, 112484, 112486, 112488, 112490, 112492, 64877, 112494, 112496, 47985, 112500, 112502, 64887, 112506, 112508, 112510, 112512, 64897, 112516, 112518, 112520, 112522, 112524, 112526, 112528, 64913, 112530, 112532, 112534, 112536, 64923, 112540, 112542, 112544, 64929, 112548, 112552, 64939, 112556, 112558, 112560, 8113, 112562, 64947, 112566, 112568, 112570, 112572, 64957, 112574, 112578, 112580, 64967, 112584, 112586, 112588, 112590, 112592, 112594, 64467, 112600, 64995, 68068, 73699, 73700, 64487, 73701, 73705, 73706, 65007, 64497, 41467, 65021]\n"
          ]
        }
      ]
    },
    {
      "cell_type": "code",
      "source": [
        "print(len(missing_vals3))"
      ],
      "metadata": {
        "colab": {
          "base_uri": "https://localhost:8080/"
        },
        "id": "XRL4NvtXlCYs",
        "outputId": "102756c7-56f7-4894-fe81-4cde9a7ed4c1"
      },
      "execution_count": null,
      "outputs": [
        {
          "output_type": "stream",
          "name": "stdout",
          "text": [
            "238\n"
          ]
        }
      ]
    },
    {
      "cell_type": "code",
      "source": [
        "data_new = data[~data.SeqID.isin(missing_vals)]\n",
        "data_new2 = data2[~data2.SeqID.isin(missing_vals2)]\n",
        "data_new3 = data3[~data3.SeqID.isin(missing_vals3)]"
      ],
      "metadata": {
        "id": "PGMwNjfrjcgi"
      },
      "execution_count": null,
      "outputs": []
    },
    {
      "cell_type": "code",
      "source": [
        "efv = data_new[~data_new.EFV.isna()]\n",
        "nvp = data_new[~data_new.NVP.isna()]\n",
        "etr = data_new[~data_new.ETR.isna()]\n",
        "rpv = data_new[~data_new.RPV.isna()]"
      ],
      "metadata": {
        "id": "_XqAYbNGjfg5"
      },
      "execution_count": null,
      "outputs": []
    },
    {
      "cell_type": "code",
      "source": [
        "ttc = data_new2[~data_new2.X3TC.isna()] # TTC is equivalent to 3TC\n",
        "abc = data_new2[~data_new2.ABC.isna()]\n",
        "azt = data_new2[~data_new2.AZT.isna()]\n",
        "dft = data_new2[~data_new2.D4T.isna()] # D4T is equivalent to DFT\n",
        "ddi = data_new2[~data_new2.DDI.isna()]\n",
        "tdf = data_new2[~data_new2.TDF.isna()]"
      ],
      "metadata": {
        "id": "nadydUrQji7V"
      },
      "execution_count": null,
      "outputs": []
    },
    {
      "cell_type": "code",
      "source": [
        "fpv = data_new3[~data_new3.FPV.isna()]\n",
        "atv = data_new3[~data_new3.ATV.isna()]\n",
        "idv = data_new3[~data_new3.IDV.isna()]\n",
        "lpv = data_new3[~data_new3.LPV.isna()]\n",
        "nfv = data_new3[~data_new3.NFV.isna()]\n",
        "sqv = data_new3[~data_new3.SQV.isna()]\n",
        "tpv = data_new3[~data_new3.TPV.isna()]\n",
        "drv = data_new3[~data_new3.DRV.isna()]"
      ],
      "metadata": {
        "id": "FY9YhQ35jlb9"
      },
      "execution_count": null,
      "outputs": []
    },
    {
      "cell_type": "code",
      "source": [
        "efv = efv.drop(efv.columns[[2,3,4]], axis=1)\n",
        "nvp = nvp.drop(nvp.columns[[1,3,4]], axis=1)\n",
        "etr = etr.drop(etr.columns[[1,2,4]], axis=1)\n",
        "rpv = rpv.drop(rpv.columns[[1,2,3]], axis=1)"
      ],
      "metadata": {
        "id": "QNGvDWxTjoRl"
      },
      "execution_count": null,
      "outputs": []
    },
    {
      "cell_type": "code",
      "source": [
        "ttc = ttc.drop(ttc.columns[2:7], axis=1)\n",
        "abc = abc.drop(abc.columns[[1, 3, 4, 5, 6]], axis=1)\n",
        "azt = azt.drop(azt.columns[[1, 2, 4, 5, 6]], axis=1)\n",
        "dft = dft.drop(dft.columns[[1, 2, 3, 5, 6]], axis=1)\n",
        "ddi = ddi.drop(ddi.columns[[1, 2, 3, 4, 6]], axis=1)\n",
        "tdf = tdf.drop(tdf.columns[1:6], axis=1)"
      ],
      "metadata": {
        "id": "glUef6m_jqcl"
      },
      "execution_count": null,
      "outputs": []
    },
    {
      "cell_type": "code",
      "source": [
        "fpv = fpv.drop(fpv.columns[2:9], axis=1)\n",
        "atv = atv.drop(atv.columns[[1, 3, 4, 5, 6, 7, 8, 9]], axis=1)\n",
        "idv = idv.drop(idv.columns[[1, 2, 4, 5, 6, 7, 8, 9]], axis=1)\n",
        "lpv = lpv.drop(lpv.columns[[1, 2, 3, 5, 6, 7, 8, 9]], axis=1)\n",
        "nfv = nfv.drop(nfv.columns[[1, 2, 3, 4, 6, 7, 8, 9]], axis=1)\n",
        "sqv = sqv.drop(sqv.columns[[1, 2, 3, 4, 5, 7, 8, 9]], axis=1)\n",
        "tpv = tpv.drop(tpv.columns[[1, 2, 3, 4, 5, 6, 7, 9]], axis=1)\n",
        "drv = drv.drop(drv.columns[1:8], axis=1)"
      ],
      "metadata": {
        "id": "r-u-PuV0jtcu"
      },
      "execution_count": null,
      "outputs": []
    },
    {
      "cell_type": "markdown",
      "source": [
        "Total of missing values before being remove"
      ],
      "metadata": {
        "id": "3MrGPu2kL1OZ"
      }
    },
    {
      "cell_type": "code",
      "source": [
        "data.isna().sum().sort_values(ascending=False)"
      ],
      "metadata": {
        "colab": {
          "base_uri": "https://localhost:8080/"
        },
        "id": "eE5S83ciLRPl",
        "outputId": "9d06f11f-3629-4d6d-d5e5-ea3945de34d3"
      },
      "execution_count": null,
      "outputs": [
        {
          "output_type": "execute_result",
          "data": {
            "text/plain": [
              "RPV      1582\n",
              "ETR      1281\n",
              "EFV        78\n",
              "NVP        71\n",
              "SeqID       0\n",
              "         ... \n",
              "P84         0\n",
              "P85         0\n",
              "P86         0\n",
              "P87         0\n",
              "P240        0\n",
              "Length: 245, dtype: int64"
            ]
          },
          "metadata": {},
          "execution_count": 80
        }
      ]
    },
    {
      "cell_type": "code",
      "source": [
        "data2.isna().sum().sort_values(ascending=False)"
      ],
      "metadata": {
        "colab": {
          "base_uri": "https://localhost:8080/"
        },
        "id": "d1j4v575Lirx",
        "outputId": "2ce3e8c8-d079-4630-ae2e-85fcf8852238"
      },
      "execution_count": null,
      "outputs": [
        {
          "output_type": "execute_result",
          "data": {
            "text/plain": [
              "TDF     331\n",
              "ABC     142\n",
              "X3TC     35\n",
              "AZT      22\n",
              "D4T      14\n",
              "       ... \n",
              "P84       0\n",
              "P85       0\n",
              "P86       0\n",
              "P87       0\n",
              "P240      0\n",
              "Length: 247, dtype: int64"
            ]
          },
          "metadata": {},
          "execution_count": 29
        }
      ]
    },
    {
      "cell_type": "code",
      "source": [
        "data3.isna().sum().sort_values(ascending=False)"
      ],
      "metadata": {
        "colab": {
          "base_uri": "https://localhost:8080/"
        },
        "id": "I-1gt--HLlk3",
        "outputId": "f02390cb-b85a-420a-d097-a6f8a6e06ae7"
      },
      "execution_count": null,
      "outputs": [
        {
          "output_type": "execute_result",
          "data": {
            "text/plain": [
              "DRV    1202\n",
              "TPV     962\n",
              "ATV     668\n",
              "LPV     365\n",
              "FPV     128\n",
              "       ... \n",
              "P29       0\n",
              "P28       0\n",
              "P27       0\n",
              "P26       0\n",
              "P99       0\n",
              "Length: 108, dtype: int64"
            ]
          },
          "metadata": {},
          "execution_count": 30
        }
      ]
    },
    {
      "cell_type": "markdown",
      "source": [
        "Total of missing values after being remove"
      ],
      "metadata": {
        "id": "a6ejLAk0OdFo"
      }
    },
    {
      "cell_type": "code",
      "source": [
        "res_vals_efv = []\n",
        "for i in range(len(efv)):\n",
        "    if efv.iloc[i, 1] >= 3.5:\n",
        "        res = 1\n",
        "    else:\n",
        "        res = 0\n",
        "    res_vals_efv.append(res)\n",
        "efv[\"res_vals_efv\"] = res_vals_efv"
      ],
      "metadata": {
        "id": "IYcCBZZ7jyfN"
      },
      "execution_count": null,
      "outputs": []
    },
    {
      "cell_type": "code",
      "source": [
        "res_vals_nvp = []\n",
        "for i in range(len(nvp)):\n",
        "    if nvp.iloc[i, 1] >= 3.5:\n",
        "        res = 1\n",
        "    else:\n",
        "        res = 0\n",
        "    res_vals_nvp.append(res)\n",
        "nvp[\"res_vals_nvp\"] = res_vals_nvp"
      ],
      "metadata": {
        "id": "pu3uwg-xjz7W"
      },
      "execution_count": null,
      "outputs": []
    },
    {
      "cell_type": "code",
      "source": [
        "res_vals_etr = []\n",
        "for i in range(len(etr)):\n",
        "    if etr.iloc[i, 1] >= 3.5:\n",
        "        res = 1\n",
        "    else:\n",
        "        res = 0\n",
        "    res_vals_etr.append(res)\n",
        "etr[\"res_vals_etr\"] = res_vals_etr"
      ],
      "metadata": {
        "id": "AFR9u_iHj2eG"
      },
      "execution_count": null,
      "outputs": []
    },
    {
      "cell_type": "code",
      "source": [
        "res_vals_rpv = []\n",
        "for i in range(len(rpv)):\n",
        "    if rpv.iloc[i, 1] >= 3.5:\n",
        "        res = 1\n",
        "    else:\n",
        "        res = 0\n",
        "    res_vals_rpv.append(res)\n",
        "rpv[\"res_vals_rpv\"] = res_vals_rpv"
      ],
      "metadata": {
        "id": "oZIMt_Wij42O"
      },
      "execution_count": null,
      "outputs": []
    },
    {
      "cell_type": "markdown",
      "source": [
        "Data 2"
      ],
      "metadata": {
        "id": "Oi7fVfYSj-M-"
      }
    },
    {
      "cell_type": "code",
      "source": [
        "res_vals_ttc = []\n",
        "for i in range(len(ttc)):\n",
        "    if ttc.iloc[i, 1] >= 3.5:\n",
        "        res = 1\n",
        "    else:\n",
        "        res = 0\n",
        "    res_vals_ttc.append(res)\n",
        "ttc['res_vals_ttc'] = res_vals_ttc"
      ],
      "metadata": {
        "id": "twdDKynnj8N4"
      },
      "execution_count": null,
      "outputs": []
    },
    {
      "cell_type": "code",
      "source": [
        "res_vals_abc = []\n",
        "for i in range(len(abc)):\n",
        "    if abc.iloc[i, 1] >= 3.5:\n",
        "        res = 1\n",
        "    else:\n",
        "        res = 0\n",
        "    res_vals_abc.append(res)\n",
        "abc['res_vals_abc'] = res_vals_abc"
      ],
      "metadata": {
        "id": "inj59yJ_kA_u"
      },
      "execution_count": null,
      "outputs": []
    },
    {
      "cell_type": "code",
      "source": [
        "res_vals_azt = []\n",
        "for i in range(len(azt)):\n",
        "    if azt.iloc[i, 1] >= 3.5:\n",
        "        res = 1\n",
        "    else:\n",
        "        res = 0\n",
        "    res_vals_azt.append(res)\n",
        "azt['res_vals_azt'] = res_vals_azt"
      ],
      "metadata": {
        "id": "lBN3RQTPkDMw"
      },
      "execution_count": null,
      "outputs": []
    },
    {
      "cell_type": "code",
      "source": [
        "res_vals_dft = []\n",
        "for i in range(len(dft)):\n",
        "    if dft.iloc[i, 1] >= 3.5:\n",
        "        res = 1\n",
        "    else:\n",
        "        res = 0\n",
        "    res_vals_dft.append(res)\n",
        "dft['res_vals_dft'] = res_vals_dft"
      ],
      "metadata": {
        "id": "npaDXqs1kGKI"
      },
      "execution_count": null,
      "outputs": []
    },
    {
      "cell_type": "code",
      "source": [
        "res_vals_ddi = []\n",
        "for i in range(len(ddi)):\n",
        "    if ddi.iloc[i, 1] >= 3.5:\n",
        "        res = 1\n",
        "    else:\n",
        "        res = 0\n",
        "    res_vals_ddi.append(res)\n",
        "ddi['res_vals_ddi'] = res_vals_ddi"
      ],
      "metadata": {
        "id": "eF0oXb6LkIrB"
      },
      "execution_count": null,
      "outputs": []
    },
    {
      "cell_type": "code",
      "source": [
        "res_vals_tdf = []\n",
        "for i in range(len(tdf)):\n",
        "    if tdf.iloc[i, 1] >= 3.5:\n",
        "        res = 1\n",
        "    else:\n",
        "        res = 0\n",
        "    res_vals_tdf.append(res)\n",
        "tdf['res_vals_tdf'] = res_vals_tdf"
      ],
      "metadata": {
        "id": "ScRK9a6tkKyq"
      },
      "execution_count": null,
      "outputs": []
    },
    {
      "cell_type": "markdown",
      "source": [
        "Data 3"
      ],
      "metadata": {
        "id": "F2uEEnQTkMIb"
      }
    },
    {
      "cell_type": "code",
      "source": [
        "res_vals_fpv = []\n",
        "for i in range(len(fpv)):\n",
        "    if fpv.iloc[i, 1] >= 3.5:\n",
        "        res = 1\n",
        "    else:\n",
        "        res = 0\n",
        "    res_vals_fpv.append(res)\n",
        "fpv['res_vals_fpv'] = res_vals_fpv"
      ],
      "metadata": {
        "id": "fNHocChckNoP"
      },
      "execution_count": null,
      "outputs": []
    },
    {
      "cell_type": "code",
      "source": [
        "res_vals_atv = []\n",
        "for i in range(len(atv)):\n",
        "    if atv.iloc[i, 1] >= 3.5:\n",
        "        res = 1\n",
        "    else:\n",
        "        res = 0\n",
        "    res_vals_atv.append(res)\n",
        "atv['res_vals_atv'] = res_vals_atv"
      ],
      "metadata": {
        "id": "wv-2MiFJkRLH"
      },
      "execution_count": null,
      "outputs": []
    },
    {
      "cell_type": "code",
      "source": [
        "res_vals_idv = []\n",
        "for i in range(len(idv)):\n",
        "    if idv.iloc[i, 1] >= 3.5:\n",
        "        res = 1\n",
        "    else:\n",
        "        res = 0\n",
        "    res_vals_idv.append(res)\n",
        "idv['res_vals_idv'] = res_vals_idv"
      ],
      "metadata": {
        "id": "v14YdxAKkWP4"
      },
      "execution_count": null,
      "outputs": []
    },
    {
      "cell_type": "code",
      "source": [
        "res_vals_lpv = []\n",
        "for i in range(len(lpv)):\n",
        "    if lpv.iloc[i, 1] >= 3.5:\n",
        "        res = 1\n",
        "    else:\n",
        "        res = 0\n",
        "    res_vals_lpv.append(res)\n",
        "lpv['res_vals_lpv'] = res_vals_lpv"
      ],
      "metadata": {
        "id": "9TVLPzmIkYc-"
      },
      "execution_count": null,
      "outputs": []
    },
    {
      "cell_type": "code",
      "source": [
        "res_vals_nfv = []\n",
        "for i in range(len(nfv)):\n",
        "    if nfv.iloc[i, 1] >= 3.5:\n",
        "        res = 1\n",
        "    else:\n",
        "        res = 0\n",
        "    res_vals_nfv.append(res)\n",
        "nfv['res_vals_nfv'] = res_vals_nfv"
      ],
      "metadata": {
        "id": "BFnrKi0hkaju"
      },
      "execution_count": null,
      "outputs": []
    },
    {
      "cell_type": "code",
      "source": [
        "res_vals_sqv = []\n",
        "for i in range(len(sqv)):\n",
        "    if sqv.iloc[i, 1] >= 3.5:\n",
        "        res = 1\n",
        "    else:\n",
        "        res = 0\n",
        "    res_vals_sqv.append(res)\n",
        "sqv['res_vals_sqv'] = res_vals_sqv"
      ],
      "metadata": {
        "id": "XrX5NFBukdbl"
      },
      "execution_count": null,
      "outputs": []
    },
    {
      "cell_type": "code",
      "source": [
        "res_vals_tpv = []\n",
        "for i in range(len(tpv)):\n",
        "    if tpv.iloc[i, 1] >= 3.5:\n",
        "        res = 1\n",
        "    else:\n",
        "        res = 0\n",
        "    res_vals_tpv.append(res)\n",
        "tpv['res_vals_tpv'] = res_vals_tpv"
      ],
      "metadata": {
        "id": "gzgMOXJlkfk9"
      },
      "execution_count": null,
      "outputs": []
    },
    {
      "cell_type": "code",
      "source": [
        "res_vals_drv = []\n",
        "for i in range(len(drv)):\n",
        "    if drv.iloc[i, 1] >= 3.5:\n",
        "        res = 1\n",
        "    else:\n",
        "        res = 0\n",
        "    res_vals_drv.append(res)\n",
        "drv['res_vals_drv'] = res_vals_drv\n",
        "\n",
        "# Result is dataframes for each drug with binomial resistance values"
      ],
      "metadata": {
        "id": "Y3OX2-Nkkh5k"
      },
      "execution_count": null,
      "outputs": []
    },
    {
      "cell_type": "code",
      "source": [
        "def create_fasta_NRT(data, resvalname, filename):\n",
        "    NRT_norm = \"PISPIETVPVKLKPGMDGPKVKQWPLTEEKIKALVEICTEMEKEGKISKIGPENPYNTPVFAIKKKDSTKWRKLVDFRELNKRTQDFWEVQLGIPHPAGLKKKKSVTVLDVGDAYFSVPLDKDFRKYTAFTIPSINNETPGIRYQYNVLPQGWKGSPAIFQSSMTKILEPFRKQNPDIVIYQYMDDLYVGSDLEIGQHRTKIEELRQHLLRWGFTTPDKKHQKEPPFLWMGYELHPDKWT\"\n",
        "    flagged = []\n",
        "    flag = False\n",
        "    with open(filename, 'w') as file:\n",
        "        for i in range(len(data)):\n",
        "            name = f\"{data.iloc[i]['SeqID']}_{resvalname[i]}\"\n",
        "            seq = NRT_norm\n",
        "            for j in range(240):  # 240 for NNRTI\n",
        "                x = data.iloc[i, j+2]\n",
        "                if len(str(x)) > 1:\n",
        "                    x = str(x)[0]\n",
        "                    flag = True\n",
        "                x = str(x)\n",
        "                if x != '-':\n",
        "                    seq = seq[:j] + x + seq[j+1:]\n",
        "            file.write(f\">{name}\\n{seq}\\n\")\n",
        "            if flag:\n",
        "                flagged.append(data.iloc[i]['SeqID'])"
      ],
      "metadata": {
        "id": "g8lPVdTikn4x"
      },
      "execution_count": null,
      "outputs": []
    },
    {
      "cell_type": "code",
      "source": [
        "create_fasta_NRT(efv, res_vals_efv, \"efv.fasta\")\n",
        "create_fasta_NRT(etr, res_vals_etr, \"etr.fasta\")\n",
        "create_fasta_NRT(nvp, res_vals_nvp, \"nvp.fasta\")\n",
        "create_fasta_NRT(rpv, res_vals_rpv, \"rpv.fasta\")"
      ],
      "metadata": {
        "id": "sMNuXul5kqUT"
      },
      "execution_count": null,
      "outputs": []
    },
    {
      "cell_type": "code",
      "source": [
        "def create_fasta_RT(data2, resvalname, filename):\n",
        "    RT_norm = \"PISPIETVPVKLKPGMDGPKVKQWPLTEEKIKALVEICTEMEKEGKISKIGPENPYNTPVFAIKKKDSTKWRKLVDFRELNKRTQDFWEVQLGIPHPAGLKKKKSVTVLDVGDAYFSVPLDKDFRKYTAFTIPSINNETPGIRYQYNVLPQGWKGSPAIFQSSMTKILEPFRKQNPDIVIYQYMDDLYVGSDLEIGQHRTKIEELRQHLLRWGFTTPDKKHQKEPPFLWMGYELHPDKWT\"\n",
        "    flagged = []\n",
        "    flag = False\n",
        "    with open(filename, 'w') as file:\n",
        "        for i in range(len(data2)):\n",
        "            name = f\"{data2.iloc[i]['SeqID']}_{resvalname[i]}\"\n",
        "            seq = RT_norm\n",
        "            for j in range(240):  # 240 for NRTI\n",
        "                if j+2 < data2.shape[1]:\n",
        "                    x = data2.iloc[i, j+2]\n",
        "                if len(str(x)) > 1:\n",
        "                    x = str(x)[0]\n",
        "                    flag = True\n",
        "                x = str(x)\n",
        "                if x != '-':\n",
        "                    seq = seq[:j] + x + seq[j+1:]\n",
        "            file.write(f\">{name}\\n{seq}\\n\")\n",
        "            if flag:\n",
        "                flagged.append(data2.iloc[i]['SeqID'])"
      ],
      "metadata": {
        "id": "rq9U_LZmlwyV"
      },
      "execution_count": null,
      "outputs": []
    },
    {
      "cell_type": "code",
      "source": [
        "create_fasta_RT(ttc, res_vals_ttc, \"ttc.fasta\")\n",
        "create_fasta_RT(abc, res_vals_abc, \"abc.fasta\")\n",
        "create_fasta_RT(azt, res_vals_azt, \"azt.fasta\")\n",
        "create_fasta_RT(dft, res_vals_dft, \"dft.fasta\")\n",
        "create_fasta_RT(ddi, res_vals_ddi, \"ddi.fasta\")\n",
        "create_fasta_RT(tdf, res_vals_tdf, \"tdf.fasta\")"
      ],
      "metadata": {
        "id": "nD72T6qelz50"
      },
      "execution_count": null,
      "outputs": []
    },
    {
      "cell_type": "code",
      "source": [
        "def create_fasta_PI(data3, resvalname, filename):\n",
        "    PI_norm = \"PQITLWQRPLVTIKIGGQLKEALLDTGADDTVLEEMNLPGRWKPKMIGGIGGFIKVRQYDQILIEICGHKAIGTVLVGPTPVNIIGRNLLTQIGCTLNF\"\n",
        "    flagged = []\n",
        "    flag = False    # Reset flag for each sequence\n",
        "    with open(filename, 'w') as file:\n",
        "        for i in range(len(data3)):\n",
        "            name = f\"{data3.iloc[i]['SeqID']}_{resvalname[i]}\"\n",
        "            seq = PI_norm\n",
        "            for j in range(99):  # 99 for PI\n",
        "                if j+2 < data3.shape[1]:\n",
        "                    x = data3.iloc[i, j + 2]\n",
        "                if len(str(x)) > 1:\n",
        "                    x = str(x)[0]\n",
        "                    flag = True\n",
        "                x = str(x)\n",
        "                if x != '-':\n",
        "                    seq = seq[:j] + x + seq[j+1:]\n",
        "            file.write(f\">{name}\\n{seq}\\n\")\n",
        "            if flag:\n",
        "                flagged.append(data3.iloc[i]['SeqID'])"
      ],
      "metadata": {
        "id": "FU5xyeshl2_8"
      },
      "execution_count": null,
      "outputs": []
    },
    {
      "cell_type": "code",
      "source": [
        "create_fasta_PI(fpv, res_vals_fpv, \"fpv.fasta\")\n",
        "create_fasta_PI(atv, res_vals_atv, \"atv.fasta\")\n",
        "create_fasta_PI(idv, res_vals_idv, \"idv.fasta\")\n",
        "create_fasta_PI(lpv, res_vals_lpv, \"lpv.fasta\")\n",
        "create_fasta_PI(nfv, res_vals_nfv, \"nfv.fasta\")\n",
        "create_fasta_PI(sqv, res_vals_sqv, \"sqv.fasta\")\n",
        "create_fasta_PI(tpv, res_vals_tpv, \"tpv.fasta\")\n",
        "create_fasta_PI(drv, res_vals_drv, \"drv.fasta\")"
      ],
      "metadata": {
        "id": "P0rRqxy-mBVP"
      },
      "execution_count": null,
      "outputs": []
    },
    {
      "cell_type": "markdown",
      "source": [
        "Exploratory Data Analysis (EDA)"
      ],
      "metadata": {
        "id": "0efx5xMAYGm2"
      }
    },
    {
      "cell_type": "code",
      "source": [
        "def count_sequences_in_fasta(fasta_file):\n",
        "    with open(fasta_file, \"r\") as file:\n",
        "        lines = file.readlines()\n",
        "    sequences = [line.strip() for line in lines if not line.startswith('>') and line.strip()]\n",
        "    return len(sequences)\n",
        "\n",
        "# List of FASTA files to check\n",
        "fasta_files = [\n",
        "    \"fpv.fasta\", \"atv.fasta\", \"idv.fasta\", \"lpv.fasta\", \"nfv.fasta\",\n",
        "    \"sqv.fasta\", \"tpv.fasta\", \"drv.fasta\", \"ttc.fasta\", \"abc.fasta\",\n",
        "    \"azt.fasta\", \"dft.fasta\", \"ddi.fasta\", \"tdf.fasta\", \"efv.fasta\",\n",
        "    \"etr.fasta\", \"nvp.fasta\", \"rpv.fasta\"\n",
        "]"
      ],
      "metadata": {
        "id": "VzzrJO54GEa9"
      },
      "execution_count": null,
      "outputs": []
    },
    {
      "cell_type": "code",
      "source": [
        "# Initialize total count and dictionary to hold results\n",
        "total_sequences = 0\n",
        "sequence_counts = {}"
      ],
      "metadata": {
        "id": "A7I7YGbB3bd1"
      },
      "execution_count": null,
      "outputs": []
    },
    {
      "cell_type": "code",
      "source": [
        "# Count sequences in each FASTA file and store the results\n",
        "for fasta_file in fasta_files:\n",
        "    count = count_sequences_in_fasta(fasta_file)\n",
        "    sequence_counts[fasta_file] = count\n",
        "    total_sequences += count"
      ],
      "metadata": {
        "id": "2sck5lV_3V8Q"
      },
      "execution_count": null,
      "outputs": []
    },
    {
      "cell_type": "code",
      "source": [
        "# Print the results\n",
        "for fasta_file, count in sequence_counts.items():\n",
        "    print(f\"{fasta_file}: {count} sequences\")"
      ],
      "metadata": {
        "colab": {
          "base_uri": "https://localhost:8080/"
        },
        "id": "D4Kswh3I3gjz",
        "outputId": "ce2f72c2-129e-444f-8035-e019dac99a18"
      },
      "execution_count": null,
      "outputs": [
        {
          "output_type": "stream",
          "name": "stdout",
          "text": [
            "fpv.fasta: 1444 sequences\n",
            "atv.fasta: 987 sequences\n",
            "idv.fasta: 1491 sequences\n",
            "lpv.fasta: 1267 sequences\n",
            "nfv.fasta: 1532 sequences\n",
            "sqv.fasta: 1483 sequences\n",
            "tpv.fasta: 696 sequences\n",
            "drv.fasta: 605 sequences\n",
            "ttc.fasta: 1270 sequences\n",
            "abc.fasta: 1293 sequences\n",
            "azt.fasta: 1283 sequences\n",
            "dft.fasta: 1291 sequences\n",
            "ddi.fasta: 1291 sequences\n",
            "tdf.fasta: 1025 sequences\n",
            "efv.fasta: 1471 sequences\n",
            "etr.fasta: 481 sequences\n",
            "nvp.fasta: 1478 sequences\n",
            "rpv.fasta: 181 sequences\n"
          ]
        }
      ]
    },
    {
      "cell_type": "code",
      "source": [
        "# Print total sequence count\n",
        "print(f\"Total sequences across all files: {total_sequences}\")"
      ],
      "metadata": {
        "id": "-2pu4hM8GuSK",
        "outputId": "19344395-7be4-4934-c90c-5e8c31da727a",
        "colab": {
          "base_uri": "https://localhost:8080/"
        }
      },
      "execution_count": null,
      "outputs": [
        {
          "output_type": "stream",
          "name": "stdout",
          "text": [
            "Total sequences across all files: 20569\n"
          ]
        }
      ]
    },
    {
      "cell_type": "code",
      "source": [
        "# Plotting the results\n",
        "plt.figure(figsize=(12, 8))\n",
        "plt.bar(sequence_counts.keys(), sequence_counts.values(), color='PeachPuff')\n",
        "plt.xlabel('FASTA Files')\n",
        "plt.ylabel('Number of Sequences')\n",
        "plt.title('Number of Sequences in Each FASTA File')\n",
        "plt.xticks(rotation=45, ha='right')\n",
        "plt.tight_layout()"
      ],
      "metadata": {
        "colab": {
          "base_uri": "https://localhost:8080/",
          "height": 445
        },
        "id": "umIVUsvQuzHj",
        "outputId": "97d1789a-ab92-4fce-d8cf-62e7b93990cb"
      },
      "execution_count": null,
      "outputs": [
        {
          "output_type": "display_data",
          "data": {
            "text/plain": [
              "<Figure size 1200x800 with 1 Axes>"
            ],
            "image/png": "[encoded data removed]"
          },
          "metadata": {}
        }
      ]
    },
    {
      "cell_type": "code",
      "source": [
        "# List of PI FASTA files to check\n",
        "pi_fasta_files = [\n",
        "    \"fpv.fasta\", \"atv.fasta\", \"idv.fasta\", \"lpv.fasta\", \"nfv.fasta\",\n",
        "    \"sqv.fasta\", \"tpv.fasta\", \"drv.fasta\"\n",
        "]\n",
        "\n",
        "# Initialize a dictionary to hold sequence counts\n",
        "pi_sequence_counts = {}\n",
        "\n",
        "# Count sequences in each FASTA file and store the results in the dictionary\n",
        "for fasta_file in pi_fasta_files:\n",
        "    count = count_sequences_in_fasta(fasta_file)\n",
        "    pi_sequence_counts[fasta_file] = count\n",
        "\n",
        "# Extract drug names and their sequence counts\n",
        "drugs = list(pi_sequence_counts.keys())\n",
        "sequence_counts = list(pi_sequence_counts.values())"
      ],
      "metadata": {
        "id": "zrRdpwwy4XyQ"
      },
      "execution_count": null,
      "outputs": []
    },
    {
      "cell_type": "code",
      "source": [
        "# Plot the bar chart\n",
        "plt.figure(figsize=(10, 6))\n",
        "plt.bar(drugs, sequence_counts, color='lightcoral')\n",
        "plt.xlabel('PI Drugs')\n",
        "plt.ylabel('Number of Sequences')\n",
        "plt.title('Number of Sequences for PI Drug Class')\n",
        "plt.xticks(rotation=45)\n",
        "plt.tight_layout()\n",
        "plt.show()"
      ],
      "metadata": {
        "colab": {
          "base_uri": "https://localhost:8080/",
          "height": 402
        },
        "id": "3D_uOlpI4hSs",
        "outputId": "699ca5ef-2b40-4d30-ab84-11f0161cea44"
      },
      "execution_count": null,
      "outputs": [
        {
          "output_type": "display_data",
          "data": {
            "text/plain": [
              "<Figure size 1000x600 with 1 Axes>"
            ],
            "image/png": "[encoded data removed]"
          },
          "metadata": {}
        }
      ]
    },
    {
      "cell_type": "code",
      "source": [
        "# List of NNRTI FASTA files to check\n",
        "nnrti_fasta_files = [\n",
        "    \"efv.fasta\", \"etr.fasta\", \"nvp.fasta\", \"rpv.fasta\"\n",
        "]\n",
        "\n",
        "# Initialize a dictionary to hold sequence counts\n",
        "nnrti_sequence_counts = {}\n",
        "\n",
        "# Count sequences in each FASTA file and store the results in the dictionary\n",
        "for fasta_file in nnrti_fasta_files:\n",
        "    count = count_sequences_in_fasta(fasta_file)\n",
        "    nnrti_sequence_counts[fasta_file] = count\n",
        "\n",
        "# Extract drug names and their sequence counts\n",
        "drugs = list(nnrti_sequence_counts.keys())\n",
        "sequence_counts = list(nnrti_sequence_counts.values())"
      ],
      "metadata": {
        "id": "ZUqLvTHS5u04"
      },
      "execution_count": null,
      "outputs": []
    },
    {
      "cell_type": "code",
      "source": [
        "# Plot the bar chart\n",
        "plt.figure(figsize=(10, 6))\n",
        "plt.bar(drugs, sequence_counts, color='skyblue')\n",
        "plt.xlabel('NNRTI Drugs')\n",
        "plt.ylabel('Number of Sequences')\n",
        "plt.title('Number of Sequences for NNRTI Drug Class')\n",
        "plt.xticks(rotation=45)\n",
        "plt.tight_layout()\n",
        "plt.show()"
      ],
      "metadata": {
        "colab": {
          "base_uri": "https://localhost:8080/",
          "height": 402
        },
        "id": "0apMTBSm56dt",
        "outputId": "0036a380-096a-459e-c59c-de32c5d82bac"
      },
      "execution_count": null,
      "outputs": [
        {
          "output_type": "display_data",
          "data": {
            "text/plain": [
              "<Figure size 1000x600 with 1 Axes>"
            ],
            "image/png": "[encoded data removed]"
          },
          "metadata": {}
        }
      ]
    },
    {
      "cell_type": "code",
      "source": [
        "# List of NRTI FASTA files to check\n",
        "nrti_fasta_files = [\n",
        "    \"ttc.fasta\", \"abc.fasta\", \"azt.fasta\", \"dft.fasta\", \"ddi.fasta\", \"tdf.fasta\"\n",
        "]\n",
        "\n",
        "# Initialize a dictionary to hold sequence counts\n",
        "nrti_sequence_counts = {}\n",
        "\n",
        "# Count sequences in each FASTA file and store the results in the dictionary\n",
        "for fasta_file in nrti_fasta_files:\n",
        "    count = count_sequences_in_fasta(fasta_file)\n",
        "    nrti_sequence_counts[fasta_file] = count\n",
        "\n",
        "# Extract drug names and their sequence counts\n",
        "drugs = list(nrti_sequence_counts.keys())\n",
        "sequence_counts = list(nrti_sequence_counts.values())"
      ],
      "metadata": {
        "id": "kgWays8V58Y8"
      },
      "execution_count": null,
      "outputs": []
    },
    {
      "cell_type": "code",
      "source": [
        "# Plot the bar chart\n",
        "plt.figure(figsize=(10, 6))\n",
        "plt.bar(drugs, sequence_counts, color='lightgreen')\n",
        "plt.xlabel('NRTI Drugs')\n",
        "plt.ylabel('Number of Sequences')\n",
        "plt.title('Number of Sequences for NRTI Drug Class')\n",
        "plt.xticks(rotation=45)\n",
        "plt.tight_layout()\n",
        "plt.show()"
      ],
      "metadata": {
        "colab": {
          "base_uri": "https://localhost:8080/",
          "height": 402
        },
        "id": "vtVP_CHE6QzU",
        "outputId": "9229cb5e-1107-405d-91ca-6f1996b92d55"
      },
      "execution_count": null,
      "outputs": [
        {
          "output_type": "display_data",
          "data": {
            "text/plain": [
              "<Figure size 1000x600 with 1 Axes>"
            ],
            "image/png": "[encoded data removed]"
          },
          "metadata": {}
        }
      ]
    }
  ]
}